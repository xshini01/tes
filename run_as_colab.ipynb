{
  "cells": [
    {
      "cell_type": "markdown",
      "metadata": {
        "colab_type": "text",
        "id": "view-in-github"
      },
      "source": [
        "<a href=\"https://colab.research.google.com/github/xshini01/comic_translator/blob/main/run_as_colab.ipynb\" target=\"_parent\"><img src=\"https://colab.research.google.com/assets/colab-badge.svg\" alt=\"Open In Colab\"/></a>"
      ]
    },
    {
      "cell_type": "markdown",
      "metadata": {
        "id": "agabaKDxue0y"
      },
      "source": [
        "**Komik translator**\n",
        "\n",
        "\n",
        "**by Xshini/KZR**"
      ]
    },
    {
      "cell_type": "code",
      "execution_count": null,
      "metadata": {
        "cellView": "form",
        "id": "ZSESEj2ysT76"
      },
      "outputs": [],
      "source": [
        "# @title **SETUP**\n",
        "# @markdown ******\n",
        "\n",
        "# @markdown ***Run this and wait for the public url !!!***\n",
        "\n",
        "# @markdown Komik Translator\n",
        "\n",
        "# @markdown Inggris => Indonesia\n",
        "# @markdown ******\n",
        "\n",
        "%cd /content\n",
        "!git clone https://github.com/xshini01/comic_translator.git\n",
        "%cd comic_translator\n",
        "!pip install -r requirements.txt -q\n",
        "!apt-get install -y poppler-utils -q \n",
        "%run app.py"
      ]
    }
  ],
  "metadata": {
    "accelerator": "GPU",
    "colab": {
      "authorship_tag": "ABX9TyPq8Uv+8dFf+39kHa2FSENs",
      "gpuType": "T4",
      "include_colab_link": true,
      "private_outputs": true,
      "provenance": []
    },
    "kernelspec": {
      "display_name": "Python 3",
      "name": "python3"
    },
    "language_info": {
      "name": "python"
    }
  },
  "nbformat": 4,
  "nbformat_minor": 0
}
